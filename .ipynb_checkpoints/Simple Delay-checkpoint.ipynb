{
 "cells": [
  {
   "cell_type": "code",
   "execution_count": null,
   "id": "e34a1f44-946a-4922-9947-14343193bbd6",
   "metadata": {},
   "outputs": [],
   "source": [
    "import sounddevice as sd\n",
    "import numpy as np"
   ]
  },
  {
   "cell_type": "code",
   "execution_count": null,
   "id": "7e449a67-1d26-4bb0-974f-96723727c80a",
   "metadata": {},
   "outputs": [],
   "source": [
    "# === PARAMETERS ===\n",
    "sample_rate = 44100\n",
    "delay_time_sec = 0.5\n",
    "feedback = 0.5\n",
    "mix = 0.75\n",
    "blocksize = 1024\n",
    "\n",
    "# === DELAY BUFFER ===\n",
    "max_delay_samples = int(sample_rate * 2)\n",
    "delay_buffer = np.zeros(max_delay_samples)\n",
    "write_idx = 0\n",
    "\n",
    "def delay_effect(input_block):\n",
    "    global write_idx\n",
    "    output = np.zeros_like(input_block)\n",
    "\n",
    "    for i in range(len(input_block)):\n",
    "        delay_idx = (write_idx - int(delay_time_sec * sample_rate)) % max_delay_samples\n",
    "        delayed_sample = delay_buffer[delay_idx]\n",
    "\n",
    "        delay_buffer[write_idx] = input_block[i] + delayed_sample * feedback\n",
    "        output[i] = (1 - mix) * input_block[i] + mix * delayed_sample\n",
    "\n",
    "        write_idx = (write_idx + 1) % max_delay_samples\n",
    "\n",
    "    return output\n",
    "    \n",
    "def highpass(signal, alpha=0.995):\n",
    "    # Simple first-order high-pass filter\n",
    "    y = np.zeros_like(signal)\n",
    "    prev_input = 0\n",
    "    prev_output = 0\n",
    "    for i in range(len(signal)):\n",
    "        y[i] = alpha * (prev_output + signal[i] - prev_input)\n",
    "        prev_input = signal[i]\n",
    "        prev_output = y[i]\n",
    "    return y\n",
    "\n",
    "    \n",
    "# === AUDIO CALLBACK ===\n",
    "def callback(indata, outdata, frames, time, status):\n",
    "    if status:\n",
    "        print(status)\n",
    "\n",
    "    mono_input = indata[:, 0]  # Take input from channel 0 (SSL-2 Input 1)\n",
    "    \n",
    "    processed = delay_effect(mono_input)\n",
    "\n",
    "    # Clean up any noise with high-pass filter and clipping excess values\n",
    "    processed = highpass(processed)\n",
    "    processed = np.clip(processed, -1.0, 1.0)\n",
    "\n",
    "    stereo_output = np.column_stack([processed, processed])  # Output stereo\n",
    "    outdata[:] = stereo_output\n",
    "\n",
    "# === RUN STREAM (Mono In, Stereo Out) ===\n",
    "stream = sd.Stream(samplerate=sample_rate, blocksize=blocksize,\n",
    "                   channels=(1, 2), dtype='float32',\n",
    "                   callback=callback, latency='low')\n",
    "\n",
    "print(\"Running live delay... Press Enter to stop.\")\n",
    "with stream:\n",
    "    input()"
   ]
  },
  {
   "cell_type": "code",
   "execution_count": null,
   "id": "5c02b1d1-40ce-4e92-9d27-324a6b1e71a9",
   "metadata": {},
   "outputs": [],
   "source": []
  }
 ],
 "metadata": {
  "kernelspec": {
   "display_name": "jam-buddy",
   "language": "python",
   "name": "jam-buddy"
  },
  "language_info": {
   "codemirror_mode": {
    "name": "ipython",
    "version": 3
   },
   "file_extension": ".py",
   "mimetype": "text/x-python",
   "name": "python",
   "nbconvert_exporter": "python",
   "pygments_lexer": "ipython3",
   "version": "3.10.16"
  }
 },
 "nbformat": 4,
 "nbformat_minor": 5
}
